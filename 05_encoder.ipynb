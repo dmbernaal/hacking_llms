{
 "cells": [
  {
   "cell_type": "code",
   "execution_count": 1,
   "metadata": {},
   "outputs": [],
   "source": [
    "import torch\n",
    "import torch.nn as nn"
   ]
  },
  {
   "cell_type": "code",
   "execution_count": 2,
   "metadata": {},
   "outputs": [],
   "source": [
    "# My version using pytorch for help\n",
    "class FeedFowardLayer(nn.Module):\n",
    "    def __init__(self, d_model: int, hidden: int, act_fn: nn.Module = nn.ReLU):\n",
    "        super().__init__()\n",
    "        self.linear = nn.Sequential(\n",
    "            nn.Linear(d_model, hidden),\n",
    "            act_fn(),\n",
    "            nn.Linear(hidden, d_model))\n",
    "        \n",
    "    def forward(self, x): return self.linear(x)\n",
    "\n",
    "class EncoderBlock(nn.Module):\n",
    "    def __init__(self, seq_len, embed_dim, ff_hidden, num_heads, batch_first, act_fn):\n",
    "        super().__init__()\n",
    "        self.seq_len, self.embed_dim, self.num_heads = seq_len, embed_dim, num_heads\n",
    "        self.qkv = nn.Linear(embed_dim, embed_dim * 3)\n",
    "        self.attention_layer = nn.MultiheadAttention(embed_dim=embed_dim, num_heads=num_heads, batch_first=batch_first)\n",
    "        self.layer_norm1 = nn.LayerNorm([seq_len, embed_dim])\n",
    "        self.feed_forward_layer = FeedFowardLayer(d_model=embed_dim, hidden=ff_hidden, act_fn=act_fn)\n",
    "        self.layer_norm2 = nn.LayerNorm([seq_len, embed_dim])\n",
    "\n",
    "    def attention_block(self, x, q, k, v):\n",
    "        output, _ = self.attention_layer(query=q, key=k, value=v) # we dont use mask in encoder\n",
    "        return self.layer_norm1(output + x)\n",
    "    \n",
    "    def feed_forward_block(self, attn_out):\n",
    "        output = self.feed_forward_layer(attn_out)\n",
    "        return self.layer_norm2(output + attn_out)\n",
    "   \n",
    "    def forward(self, x):\n",
    "        # project our input into qkv linear\n",
    "        qkv = self.qkv(x)\n",
    "\n",
    "        # split into sperate matrices\n",
    "        q,k,v = qkv.chunk(3, dim=-1)\n",
    "\n",
    "        # feed into our attention block\n",
    "        out = self.attention_block(x, q, k, v)\n",
    "\n",
    "        # return output from feed_forward_block\n",
    "        return self.feed_forward_block(out)\n",
    "\n",
    "class Encoder(nn.Module):\n",
    "    def __init__(self, seq_len: int, embed_dim: int = 512, ff_hidden: int = 2048, num_heads: int = 8, n_blocks: int = 12, batch_first: bool = True, linear_act_fn: nn.Module = nn.ReLU):\n",
    "        super().__init__()\n",
    "        self.blocks = nn.Sequential(*[EncoderBlock(seq_len=seq_len, embed_dim=embed_dim, ff_hidden=ff_hidden, num_heads=num_heads, batch_first=batch_first, act_fn=linear_act_fn) for i in range(n_blocks)])\n",
    "\n",
    "    def forward(self, x): return self.blocks(x)"
   ]
  },
  {
   "cell_type": "code",
   "execution_count": 7,
   "metadata": {},
   "outputs": [],
   "source": [
    "# our data:\n",
    "batch_size = 64\n",
    "seq_len = 4000 # 4k context\n",
    "embedding_size = 512\n",
    "x = torch.Tensor(batch_size, seq_len, embedding_size) \n",
    "\n",
    "# construct our encoder\n",
    "encoder = Encoder(\n",
    "    seq_len=seq_len, \n",
    "    embed_dim=embedding_size,\n",
    ")"
   ]
  },
  {
   "cell_type": "code",
   "execution_count": 8,
   "metadata": {},
   "outputs": [
    {
     "name": "stdout",
     "output_type": "stream",
     "text": [
      "Number of parameters in model: 833691648\n"
     ]
    }
   ],
   "source": [
    "# how many parameters are in the model\n",
    "print(f\"Number of parameters in model: {sum(p.numel() for p in encoder.parameters())}\")"
   ]
  },
  {
   "cell_type": "code",
   "execution_count": null,
   "metadata": {},
   "outputs": [],
   "source": [
    "# does it work? \n",
    "out = encoder(x)\n",
    "out.shape"
   ]
  }
 ],
 "metadata": {
  "kernelspec": {
   "display_name": "coursera",
   "language": "python",
   "name": "python3"
  },
  "language_info": {
   "codemirror_mode": {
    "name": "ipython",
    "version": 3
   },
   "file_extension": ".py",
   "mimetype": "text/x-python",
   "name": "python",
   "nbconvert_exporter": "python",
   "pygments_lexer": "ipython3",
   "version": "3.11.0"
  },
  "orig_nbformat": 4
 },
 "nbformat": 4,
 "nbformat_minor": 2
}
