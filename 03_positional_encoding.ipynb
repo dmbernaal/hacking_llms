{
 "cells": [
  {
   "cell_type": "code",
   "execution_count": 1,
   "metadata": {},
   "outputs": [],
   "source": [
    "import torch\n",
    "import torch.nn as nn"
   ]
  },
  {
   "cell_type": "code",
   "execution_count": 3,
   "metadata": {},
   "outputs": [],
   "source": [
    "max_seq_len = 10 # think of this as the context length\n",
    "d_model = 6 # dimension of the embeddings and model"
   ]
  },
  {
   "attachments": {},
   "cell_type": "markdown",
   "metadata": {},
   "source": [
    "# Positional Encoding\n",
    "Typically, we can either use a pre-determined positional encoding that corresponds to a sinusoid function. Or we could just use a seperate embedding that will allow the network to 'learn' these positional encodings"
   ]
  },
  {
   "cell_type": "code",
   "execution_count": 9,
   "metadata": {},
   "outputs": [],
   "source": [
    "class PositionalEncoding(nn.Module):\n",
    "    def __init__(self, d_model, max_sequence_length, embedding = False):\n",
    "        super().__init__()\n",
    "        self.max_sequence_length, self.d_model, self.embedding = max_sequence_length, d_model, embedding\n",
    "        if embedding: self.encodings = nn.Embedding(max_sequence_length, d_model)\n",
    "        else: self.encodings = self.deterministic()\n",
    "\n",
    "    def deterministic(self):\n",
    "        even_i = torch.arange(0, self.d_model, 2).float()\n",
    "        denominator = torch.pow(10000, even_i/self.d_model)\n",
    "        position = torch.arange(self.max_sequence_length).reshape(self.max_sequence_length, 1)\n",
    "        even_pe = torch.sin(position / denominator)\n",
    "        odd_pe = torch.cos(position / denominator)\n",
    "        stacked = torch.stack([even_pe, odd_pe], dim=2)\n",
    "        return torch.flatten(stacked, start_dim=1, end_dim=2)\n",
    "    \n",
    "    def forward(self, x):\n",
    "        raise NotImplementedError"
   ]
  },
  {
   "cell_type": "code",
   "execution_count": 10,
   "metadata": {},
   "outputs": [],
   "source": [
    "# let's instantiate them\n",
    "pe_embedding = PositionalEncoding(\n",
    "    d_model=d_model, \n",
    "    max_sequence_length=max_seq_len,\n",
    "    embedding=True \n",
    ")\n",
    "\n",
    "pe = PositionalEncoding(\n",
    "    d_model=d_model,\n",
    "    max_sequence_length=max_seq_len\n",
    ")"
   ]
  },
  {
   "cell_type": "code",
   "execution_count": 13,
   "metadata": {},
   "outputs": [
    {
     "data": {
      "text/plain": [
       "Parameter containing:\n",
       "tensor([[ 1.8831, -0.2982, -1.1001, -1.5890,  0.3286, -2.0277],\n",
       "        [-1.1048,  1.2060, -0.1799, -0.8783,  0.4215, -1.6260],\n",
       "        [ 1.2312,  1.1142, -0.2046,  1.6149,  0.1039,  0.8081],\n",
       "        [-1.9421, -2.8939,  0.0515, -0.4034, -0.4251,  0.6416],\n",
       "        [ 0.3322,  1.0382,  1.7230, -1.7794,  1.0365, -0.3120],\n",
       "        [ 1.4901,  0.0924, -2.2466, -0.6678, -0.3008, -0.6301],\n",
       "        [ 1.9279, -0.0704, -1.0746, -0.4691, -0.4746, -0.2130],\n",
       "        [ 0.5111,  0.1035, -0.8524,  0.7296, -0.5704,  0.3973],\n",
       "        [-1.2975,  0.0877,  1.0542, -0.8813, -0.6858, -0.5419],\n",
       "        [ 1.6482, -1.0620, -1.2601, -0.8625, -2.0130, -0.8479]],\n",
       "       requires_grad=True)"
      ]
     },
     "execution_count": 13,
     "metadata": {},
     "output_type": "execute_result"
    }
   ],
   "source": [
    "pe_embedding.encodings.weight"
   ]
  },
  {
   "cell_type": "code",
   "execution_count": 12,
   "metadata": {},
   "outputs": [
    {
     "data": {
      "text/plain": [
       "tensor([[ 0.0000,  1.0000,  0.0000,  1.0000,  0.0000,  1.0000],\n",
       "        [ 0.8415,  0.5403,  0.0464,  0.9989,  0.0022,  1.0000],\n",
       "        [ 0.9093, -0.4161,  0.0927,  0.9957,  0.0043,  1.0000],\n",
       "        [ 0.1411, -0.9900,  0.1388,  0.9903,  0.0065,  1.0000],\n",
       "        [-0.7568, -0.6536,  0.1846,  0.9828,  0.0086,  1.0000],\n",
       "        [-0.9589,  0.2837,  0.2300,  0.9732,  0.0108,  0.9999],\n",
       "        [-0.2794,  0.9602,  0.2749,  0.9615,  0.0129,  0.9999],\n",
       "        [ 0.6570,  0.7539,  0.3192,  0.9477,  0.0151,  0.9999],\n",
       "        [ 0.9894, -0.1455,  0.3629,  0.9318,  0.0172,  0.9999],\n",
       "        [ 0.4121, -0.9111,  0.4057,  0.9140,  0.0194,  0.9998]])"
      ]
     },
     "execution_count": 12,
     "metadata": {},
     "output_type": "execute_result"
    }
   ],
   "source": [
    "pe.encodings"
   ]
  }
 ],
 "metadata": {
  "kernelspec": {
   "display_name": "llms",
   "language": "python",
   "name": "python3"
  },
  "language_info": {
   "codemirror_mode": {
    "name": "ipython",
    "version": 3
   },
   "file_extension": ".py",
   "mimetype": "text/x-python",
   "name": "python",
   "nbconvert_exporter": "python",
   "pygments_lexer": "ipython3",
   "version": "3.11.0"
  },
  "orig_nbformat": 4
 },
 "nbformat": 4,
 "nbformat_minor": 2
}
