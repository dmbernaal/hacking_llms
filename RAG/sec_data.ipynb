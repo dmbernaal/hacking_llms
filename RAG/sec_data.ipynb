{
 "cells": [
  {
   "cell_type": "code",
   "execution_count": 42,
   "metadata": {},
   "outputs": [],
   "source": [
    "import json\n",
    "import requests\n",
    "import pandas as pd\n",
    "from io import StringIO\n",
    "from bs4 import BeautifulSoup\n",
    "from sec_edgar_downloader import Downloader\n",
    "import xml.etree.ElementTree as ET\n",
    "import re"
   ]
  },
  {
   "cell_type": "code",
   "execution_count": 19,
   "metadata": {},
   "outputs": [],
   "source": [
    "headers = {'User-Agent': \"dmbernaal@gmail.com\"}"
   ]
  },
  {
   "cell_type": "code",
   "execution_count": 24,
   "metadata": {},
   "outputs": [],
   "source": [
    "response = requests.get('https://www.sec.gov/files/company_tickers.json', headers=headers)\n",
    "tickers = pd.DataFrame(json.loads(response.text)).T"
   ]
  },
  {
   "cell_type": "code",
   "execution_count": 26,
   "metadata": {},
   "outputs": [],
   "source": [
    "def ticker2cik(ticker): return tickers[tickers['ticker'] == ticker]['cik_str'].astype(str).values[0].zfill(10)"
   ]
  },
  {
   "cell_type": "code",
   "execution_count": 27,
   "metadata": {},
   "outputs": [
    {
     "data": {
      "text/plain": [
       "'0000320193'"
      ]
     },
     "execution_count": 27,
     "metadata": {},
     "output_type": "execute_result"
    }
   ],
   "source": [
    "appl_cik = ticker2cik('AAPL')\n",
    "appl_cik"
   ]
  },
  {
   "cell_type": "code",
   "execution_count": 88,
   "metadata": {},
   "outputs": [],
   "source": [
    "def download_sec_data(cik, type, start=0, count=50):\n",
    "    url = f\"https://www.sec.gov/cgi-bin/browse-edgar?action=getcompany&CIK={cik}&type={type}&start={start}&count={count}&owner=exclude&output=atom\"\n",
    "    response = requests.get(url, headers=headers)\n",
    "    print(response.status_code)\n",
    "    if response.status_code != 200: return None\n",
    "    return response.text"
   ]
  },
  {
   "cell_type": "code",
   "execution_count": 89,
   "metadata": {},
   "outputs": [
    {
     "name": "stdout",
     "output_type": "stream",
     "text": [
      "200\n"
     ]
    }
   ],
   "source": [
    "appl_sec_data = download_sec_data(appl_cik, '10-Q')"
   ]
  },
  {
   "cell_type": "code",
   "execution_count": 90,
   "metadata": {},
   "outputs": [],
   "source": [
    "# find filing links\n",
    "soup = BeautifulSoup(appl_sec_data, 'html.parser')\n",
    "filing_links = soup.find_all('filing-href')\n",
    "\n",
    "\n",
    "# grab the link from each filing\n",
    "filing_links = [link.string for link in filing_links]"
   ]
  },
  {
   "cell_type": "code",
   "execution_count": 91,
   "metadata": {},
   "outputs": [
    {
     "data": {
      "text/plain": [
       "['https://www.sec.gov/Archives/edgar/data/320193/000032019323000077/0000320193-23-000077-index.htm',\n",
       " 'https://www.sec.gov/Archives/edgar/data/320193/000032019323000064/0000320193-23-000064-index.htm',\n",
       " 'https://www.sec.gov/Archives/edgar/data/320193/000032019323000006/0000320193-23-000006-index.htm',\n",
       " 'https://www.sec.gov/Archives/edgar/data/320193/000032019322000070/0000320193-22-000070-index.htm',\n",
       " 'https://www.sec.gov/Archives/edgar/data/320193/000032019322000059/0000320193-22-000059-index.htm',\n",
       " 'https://www.sec.gov/Archives/edgar/data/320193/000032019322000007/0000320193-22-000007-index.htm',\n",
       " 'https://www.sec.gov/Archives/edgar/data/320193/000032019321000065/0000320193-21-000065-index.htm',\n",
       " 'https://www.sec.gov/Archives/edgar/data/320193/000032019321000056/0000320193-21-000056-index.htm',\n",
       " 'https://www.sec.gov/Archives/edgar/data/320193/000032019321000010/0000320193-21-000010-index.htm',\n",
       " 'https://www.sec.gov/Archives/edgar/data/320193/000032019320000062/0000320193-20-000062-index.htm',\n",
       " 'https://www.sec.gov/Archives/edgar/data/320193/000032019320000052/0000320193-20-000052-index.htm',\n",
       " 'https://www.sec.gov/Archives/edgar/data/320193/000032019320000010/0000320193-20-000010-index.htm',\n",
       " 'https://www.sec.gov/Archives/edgar/data/320193/000032019319000076/0000320193-19-000076-index.htm',\n",
       " 'https://www.sec.gov/Archives/edgar/data/320193/000032019319000066/0000320193-19-000066-index.htm',\n",
       " 'https://www.sec.gov/Archives/edgar/data/320193/000032019319000010/0000320193-19-000010-index.htm',\n",
       " 'https://www.sec.gov/Archives/edgar/data/320193/000032019318000100/0000320193-18-000100-index.htm',\n",
       " 'https://www.sec.gov/Archives/edgar/data/320193/000032019318000070/0000320193-18-000070-index.htm',\n",
       " 'https://www.sec.gov/Archives/edgar/data/320193/000032019318000007/0000320193-18-000007-index.htm',\n",
       " 'https://www.sec.gov/Archives/edgar/data/320193/000032019317000009/0000320193-17-000009-index.htm',\n",
       " 'https://www.sec.gov/Archives/edgar/data/320193/000162828017004790/0001628280-17-004790-index.htm',\n",
       " 'https://www.sec.gov/Archives/edgar/data/320193/000162828017000717/0001628280-17-000717-index.htm',\n",
       " 'https://www.sec.gov/Archives/edgar/data/320193/000162828016017809/0001628280-16-017809-index.htm',\n",
       " 'https://www.sec.gov/Archives/edgar/data/320193/000119312516559625/0001193125-16-559625-index.htm',\n",
       " 'https://www.sec.gov/Archives/edgar/data/320193/000119312516439878/0001193125-16-439878-index.htm',\n",
       " 'https://www.sec.gov/Archives/edgar/data/320193/000119312515259935/0001193125-15-259935-index.htm',\n",
       " 'https://www.sec.gov/Archives/edgar/data/320193/000119312515153166/0001193125-15-153166-index.htm',\n",
       " 'https://www.sec.gov/Archives/edgar/data/320193/000119312515023697/0001193125-15-023697-index.htm',\n",
       " 'https://www.sec.gov/Archives/edgar/data/320193/000119312514277160/0001193125-14-277160-index.htm',\n",
       " 'https://www.sec.gov/Archives/edgar/data/320193/000119312514157311/0001193125-14-157311-index.htm',\n",
       " 'https://www.sec.gov/Archives/edgar/data/320193/000119312514024487/0001193125-14-024487-index.htm',\n",
       " 'https://www.sec.gov/Archives/edgar/data/320193/000119312513300670/0001193125-13-300670-index.htm',\n",
       " 'https://www.sec.gov/Archives/edgar/data/320193/000119312513168288/0001193125-13-168288-index.htm',\n",
       " 'https://www.sec.gov/Archives/edgar/data/320193/000119312513022339/0001193125-13-022339-index.htm',\n",
       " 'https://www.sec.gov/Archives/edgar/data/320193/000119312512314552/0001193125-12-314552-index.htm',\n",
       " 'https://www.sec.gov/Archives/edgar/data/320193/000119312512182321/0001193125-12-182321-index.htm',\n",
       " 'https://www.sec.gov/Archives/edgar/data/320193/000119312512023398/0001193125-12-023398-index.htm',\n",
       " 'https://www.sec.gov/Archives/edgar/data/320193/000119312511192493/0001193125-11-192493-index.htm',\n",
       " 'https://www.sec.gov/Archives/edgar/data/320193/000119312511104388/0001193125-11-104388-index.htm',\n",
       " 'https://www.sec.gov/Archives/edgar/data/320193/000119312511010144/0001193125-11-010144-index.htm',\n",
       " 'https://www.sec.gov/Archives/edgar/data/320193/000119312510162840/0001193125-10-162840-index.htm']"
      ]
     },
     "execution_count": 91,
     "metadata": {},
     "output_type": "execute_result"
    }
   ],
   "source": [
    "filing_links"
   ]
  },
  {
   "cell_type": "code",
   "execution_count": 13,
   "metadata": {},
   "outputs": [],
   "source": [
    "# # FOR LARGE BULK DOWNLOADS USE THIS:\n",
    "# dl = Downloader(\"Odyssey\", \"dmbernaal@gmail.com\")\n",
    "# dl.get(\"10-Q\", \"AAPL\", after=\"2023-01-01\", download_details=True)"
   ]
  },
  {
   "cell_type": "code",
   "execution_count": null,
   "metadata": {},
   "outputs": [],
   "source": []
  },
  {
   "cell_type": "code",
   "execution_count": null,
   "metadata": {},
   "outputs": [],
   "source": []
  },
  {
   "cell_type": "code",
   "execution_count": null,
   "metadata": {},
   "outputs": [],
   "source": []
  },
  {
   "cell_type": "code",
   "execution_count": null,
   "metadata": {},
   "outputs": [],
   "source": []
  }
 ],
 "metadata": {
  "kernelspec": {
   "display_name": "coursera",
   "language": "python",
   "name": "python3"
  },
  "language_info": {
   "codemirror_mode": {
    "name": "ipython",
    "version": 3
   },
   "file_extension": ".py",
   "mimetype": "text/x-python",
   "name": "python",
   "nbconvert_exporter": "python",
   "pygments_lexer": "ipython3",
   "version": "3.11.0"
  },
  "orig_nbformat": 4
 },
 "nbformat": 4,
 "nbformat_minor": 2
}
